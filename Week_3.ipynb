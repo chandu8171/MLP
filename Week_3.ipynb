{
 "cells": [
  {
   "cell_type": "markdown",
   "id": "67336fd1-3f4b-4b25-a356-de322b689786",
   "metadata": {},
   "source": [
    "# Week -3"
   ]
  },
  {
   "cell_type": "markdown",
   "id": "0afcf947-b553-4f57-b0c1-81b07220d9b2",
   "metadata": {
    "jp-MarkdownHeadingCollapsed": true
   },
   "source": [
    "## PA_3"
   ]
  },
  {
   "cell_type": "code",
   "execution_count": 3,
   "id": "d9e8de71-3a93-466e-b1e8-9c56120cee9e",
   "metadata": {},
   "outputs": [],
   "source": [
    "import numpy as np\n",
    "import pandas as pd"
   ]
  },
  {
   "cell_type": "code",
   "execution_count": 4,
   "id": "ebd738d5-2ccf-4fec-9e08-5def261f554a",
   "metadata": {},
   "outputs": [
    {
     "data": {
      "text/plain": [
       "(748, 6)"
      ]
     },
     "execution_count": 4,
     "metadata": {},
     "output_type": "execute_result"
    }
   ],
   "source": [
    "df3 = pd.read_csv(r\"C:/Users/chand/OB_MLP/Datasets/DataPreprocessingGraded_dataset.csv\")\n",
    "df3.shape"
   ]
  },
  {
   "cell_type": "code",
   "execution_count": 5,
   "id": "7c0a8746-aec5-4aac-a62d-69d982adcc9c",
   "metadata": {},
   "outputs": [
    {
     "data": {
      "text/html": [
       "<div>\n",
       "<style scoped>\n",
       "    .dataframe tbody tr th:only-of-type {\n",
       "        vertical-align: middle;\n",
       "    }\n",
       "\n",
       "    .dataframe tbody tr th {\n",
       "        vertical-align: top;\n",
       "    }\n",
       "\n",
       "    .dataframe thead th {\n",
       "        text-align: right;\n",
       "    }\n",
       "</style>\n",
       "<table border=\"1\" class=\"dataframe\">\n",
       "  <thead>\n",
       "    <tr style=\"text-align: right;\">\n",
       "      <th></th>\n",
       "      <th>V1</th>\n",
       "      <th>V2</th>\n",
       "      <th>V3</th>\n",
       "      <th>V4</th>\n",
       "      <th>V5</th>\n",
       "      <th>Target</th>\n",
       "    </tr>\n",
       "  </thead>\n",
       "  <tbody>\n",
       "    <tr>\n",
       "      <th>0</th>\n",
       "      <td>2.0</td>\n",
       "      <td>50.0</td>\n",
       "      <td>12500.0</td>\n",
       "      <td>98.0</td>\n",
       "      <td>NEGATIVE</td>\n",
       "      <td>YES</td>\n",
       "    </tr>\n",
       "    <tr>\n",
       "      <th>1</th>\n",
       "      <td>0.0</td>\n",
       "      <td>13.0</td>\n",
       "      <td>3250.0</td>\n",
       "      <td>28.0</td>\n",
       "      <td>NEGATIVE</td>\n",
       "      <td>YES</td>\n",
       "    </tr>\n",
       "    <tr>\n",
       "      <th>2</th>\n",
       "      <td>?</td>\n",
       "      <td>?</td>\n",
       "      <td>4000.0</td>\n",
       "      <td>35.0</td>\n",
       "      <td>NEGATIVE</td>\n",
       "      <td>YES</td>\n",
       "    </tr>\n",
       "    <tr>\n",
       "      <th>3</th>\n",
       "      <td>?</td>\n",
       "      <td>20.0</td>\n",
       "      <td>5000.0</td>\n",
       "      <td>45.0</td>\n",
       "      <td>NEGATIVE</td>\n",
       "      <td>YES</td>\n",
       "    </tr>\n",
       "    <tr>\n",
       "      <th>4</th>\n",
       "      <td>1.0</td>\n",
       "      <td>24.0</td>\n",
       "      <td>6000.0</td>\n",
       "      <td>77.0</td>\n",
       "      <td>NEGATIVE</td>\n",
       "      <td>NO</td>\n",
       "    </tr>\n",
       "    <tr>\n",
       "      <th>...</th>\n",
       "      <td>...</td>\n",
       "      <td>...</td>\n",
       "      <td>...</td>\n",
       "      <td>...</td>\n",
       "      <td>...</td>\n",
       "      <td>...</td>\n",
       "    </tr>\n",
       "    <tr>\n",
       "      <th>743</th>\n",
       "      <td>23.0</td>\n",
       "      <td>2.0</td>\n",
       "      <td>500.0</td>\n",
       "      <td>38.0</td>\n",
       "      <td>NEGATIVE</td>\n",
       "      <td>NO</td>\n",
       "    </tr>\n",
       "    <tr>\n",
       "      <th>744</th>\n",
       "      <td>21.0</td>\n",
       "      <td>2.0</td>\n",
       "      <td>500.0</td>\n",
       "      <td>52.0</td>\n",
       "      <td>NEGATIVE</td>\n",
       "      <td>NO</td>\n",
       "    </tr>\n",
       "    <tr>\n",
       "      <th>745</th>\n",
       "      <td>23.0</td>\n",
       "      <td>3.0</td>\n",
       "      <td>750.0</td>\n",
       "      <td>62.0</td>\n",
       "      <td>NEGATIVE</td>\n",
       "      <td>NO</td>\n",
       "    </tr>\n",
       "    <tr>\n",
       "      <th>746</th>\n",
       "      <td>39.0</td>\n",
       "      <td>1.0</td>\n",
       "      <td>250.0</td>\n",
       "      <td>39.0</td>\n",
       "      <td>NEGATIVE</td>\n",
       "      <td>NO</td>\n",
       "    </tr>\n",
       "    <tr>\n",
       "      <th>747</th>\n",
       "      <td>72.0</td>\n",
       "      <td>1.0</td>\n",
       "      <td>250.0</td>\n",
       "      <td>72.0</td>\n",
       "      <td>NEGATIVE</td>\n",
       "      <td>NO</td>\n",
       "    </tr>\n",
       "  </tbody>\n",
       "</table>\n",
       "<p>748 rows × 6 columns</p>\n",
       "</div>"
      ],
      "text/plain": [
       "       V1    V2       V3    V4        V5 Target\n",
       "0     2.0  50.0  12500.0  98.0  NEGATIVE    YES\n",
       "1     0.0  13.0   3250.0  28.0  NEGATIVE    YES\n",
       "2       ?     ?   4000.0  35.0  NEGATIVE    YES\n",
       "3       ?  20.0   5000.0  45.0  NEGATIVE    YES\n",
       "4     1.0  24.0   6000.0  77.0  NEGATIVE     NO\n",
       "..    ...   ...      ...   ...       ...    ...\n",
       "743  23.0   2.0    500.0  38.0  NEGATIVE     NO\n",
       "744  21.0   2.0    500.0  52.0  NEGATIVE     NO\n",
       "745  23.0   3.0    750.0  62.0  NEGATIVE     NO\n",
       "746  39.0   1.0    250.0  39.0  NEGATIVE     NO\n",
       "747  72.0   1.0    250.0  72.0  NEGATIVE     NO\n",
       "\n",
       "[748 rows x 6 columns]"
      ]
     },
     "execution_count": 5,
     "metadata": {},
     "output_type": "execute_result"
    }
   ],
   "source": [
    "df3"
   ]
  },
  {
   "cell_type": "code",
   "execution_count": 6,
   "id": "269690bb-d1a8-46c0-8fee-72f06894bc42",
   "metadata": {},
   "outputs": [
    {
     "data": {
      "text/plain": [
       "Target\n",
       "NO     570\n",
       "YES    178\n",
       "Name: count, dtype: int64"
      ]
     },
     "execution_count": 6,
     "metadata": {},
     "output_type": "execute_result"
    }
   ],
   "source": [
    "df3.Target.value_counts()"
   ]
  },
  {
   "cell_type": "code",
   "execution_count": 7,
   "id": "01fff319-8a0a-4797-9a2f-c575910a325e",
   "metadata": {},
   "outputs": [
    {
     "data": {
      "text/plain": [
       "Index(['V1', 'V2'], dtype='object')"
      ]
     },
     "execution_count": 7,
     "metadata": {},
     "output_type": "execute_result"
    }
   ],
   "source": [
    "df3.columns[df3.isin(['?']).any()]"
   ]
  },
  {
   "cell_type": "code",
   "execution_count": 8,
   "id": "7d00e737-ec4e-476c-9462-8a05ccad9a1e",
   "metadata": {},
   "outputs": [
    {
     "data": {
      "text/plain": [
       "2"
      ]
     },
     "execution_count": 8,
     "metadata": {},
     "output_type": "execute_result"
    }
   ],
   "source": [
    "len(df3.columns[df3.isin(['?']).any()])"
   ]
  },
  {
   "cell_type": "code",
   "execution_count": 9,
   "id": "4fe905d6-2c61-41dd-a73a-29407e657c85",
   "metadata": {},
   "outputs": [
    {
     "data": {
      "text/plain": [
       "5"
      ]
     },
     "execution_count": 9,
     "metadata": {},
     "output_type": "execute_result"
    }
   ],
   "source": [
    "df3.V2.isin(['?']).sum()"
   ]
  },
  {
   "cell_type": "code",
   "execution_count": 10,
   "id": "6a6c0f5c-eabe-4e6b-b756-2037c906dc65",
   "metadata": {},
   "outputs": [
    {
     "data": {
      "text/plain": [
       "9.562584118438762"
      ]
     },
     "execution_count": 10,
     "metadata": {},
     "output_type": "execute_result"
    }
   ],
   "source": [
    "from sklearn.impute import KNNImputer\n",
    "df3['V1'] = pd.to_numeric(df3['V1'].replace('?', np.nan))\n",
    "imputer = KNNImputer(n_neighbors = 3)\n",
    "df3['V1'] = imputer.fit_transform(df3[['V1']])\n",
    "df3['V1'].mean()"
   ]
  },
  {
   "cell_type": "code",
   "execution_count": 11,
   "id": "9f4221c2-6745-447d-88c5-21f47118101c",
   "metadata": {},
   "outputs": [
    {
     "data": {
      "text/plain": [
       "5.464333781965007"
      ]
     },
     "execution_count": 11,
     "metadata": {},
     "output_type": "execute_result"
    }
   ],
   "source": [
    "from sklearn.impute import SimpleImputer\n",
    "df3['V2'] = pd.to_numeric(df3['V2'].replace('?', np.nan))\n",
    "imputer = SimpleImputer(strategy='mean')\n",
    "df3['V2'] = imputer.fit_transform(df3[['V2']])\n",
    "df3['V2'].mean()"
   ]
  },
  {
   "cell_type": "code",
   "execution_count": 12,
   "id": "69138eca-6822-4aee-8bad-a3212e0ac4e9",
   "metadata": {},
   "outputs": [
    {
     "data": {
      "text/plain": [
       "V1    6.506672e+01\n",
       "V2    3.341205e+01\n",
       "V3    2.131094e+06\n",
       "V4    5.942242e+02\n",
       "dtype: float64"
      ]
     },
     "execution_count": 12,
     "metadata": {},
     "output_type": "execute_result"
    }
   ],
   "source": [
    "variances = df3.var(numeric_only=True)\n",
    "variances"
   ]
  },
  {
   "cell_type": "code",
   "execution_count": 13,
   "id": "d327f82d-7009-4d3d-b9ab-61c5aaac8b50",
   "metadata": {},
   "outputs": [
    {
     "data": {
      "image/png": "[encoded data removed]",
      "text/plain": [
       "<Figure size 1000x1000 with 1 Axes>"
      ]
     },
     "metadata": {},
     "output_type": "display_data"
    }
   ],
   "source": [
    "import matplotlib.pyplot as plt\n",
    "import seaborn as sns\n",
    "plt.figure(figsize=(10, 10))\n",
    "sns.boxplot(data=df3)\n",
    "plt.title('Box Plot for Each Feature to Identify Outliers')\n",
    "plt.show()"
   ]
  },
  {
   "cell_type": "markdown",
   "id": "223ff275-1eb7-4688-9dfe-94bb74011b4b",
   "metadata": {
    "jp-MarkdownHeadingCollapsed": true
   },
   "source": [
    "## GA_3"
   ]
  },
  {
   "cell_type": "markdown",
   "id": "9720ca38-8110-4ca3-84d1-76926e01cf38",
   "metadata": {
    "jp-MarkdownHeadingCollapsed": true
   },
   "source": [
    "### Piplines,ColumnTransformer"
   ]
  },
  {
   "cell_type": "code",
   "execution_count": 26,
   "id": "1dc99384-8b33-456b-837c-d682ee6bb89e",
   "metadata": {},
   "outputs": [],
   "source": [
    "from sklearn.pipeline import Pipeline\n",
    "from sklearn.impute import SimpleImputer\n",
    "from sklearn.preprocessing import StandardScaler, OrdinalEncoder\n",
    "from sklearn.feature_selection import VarianceThreshold\n",
    "from sklearn.pipeline import FeatureUnion\n",
    "from sklearn.compose import ColumnTransformer"
   ]
  },
  {
   "cell_type": "code",
   "execution_count": 28,
   "id": "02b37b6c-2cfd-4625-aeb8-4e850a7bd42e",
   "metadata": {},
   "outputs": [
    {
     "data": {
      "text/plain": [
       "(748, 6)"
      ]
     },
     "execution_count": 28,
     "metadata": {},
     "output_type": "execute_result"
    }
   ],
   "source": [
    "df3_1 = pd.read_csv(r\"C:/Users/chand/OB_MLP/Datasets/DataPreprocessingGraded_dataset.csv\")\n",
    "df3_1.shape"
   ]
  },
  {
   "cell_type": "code",
   "execution_count": 30,
   "id": "d2b660ee-b93f-47c1-945f-ff9542b76386",
   "metadata": {},
   "outputs": [
    {
     "data": {
      "text/html": [
       "<div>\n",
       "<style scoped>\n",
       "    .dataframe tbody tr th:only-of-type {\n",
       "        vertical-align: middle;\n",
       "    }\n",
       "\n",
       "    .dataframe tbody tr th {\n",
       "        vertical-align: top;\n",
       "    }\n",
       "\n",
       "    .dataframe thead th {\n",
       "        text-align: right;\n",
       "    }\n",
       "</style>\n",
       "<table border=\"1\" class=\"dataframe\">\n",
       "  <thead>\n",
       "    <tr style=\"text-align: right;\">\n",
       "      <th></th>\n",
       "      <th>V1</th>\n",
       "      <th>V2</th>\n",
       "      <th>V3</th>\n",
       "      <th>V4</th>\n",
       "      <th>V5</th>\n",
       "      <th>Target</th>\n",
       "    </tr>\n",
       "  </thead>\n",
       "  <tbody>\n",
       "    <tr>\n",
       "      <th>0</th>\n",
       "      <td>2.0</td>\n",
       "      <td>50.0</td>\n",
       "      <td>12500.0</td>\n",
       "      <td>98.0</td>\n",
       "      <td>NEGATIVE</td>\n",
       "      <td>YES</td>\n",
       "    </tr>\n",
       "    <tr>\n",
       "      <th>1</th>\n",
       "      <td>0.0</td>\n",
       "      <td>13.0</td>\n",
       "      <td>3250.0</td>\n",
       "      <td>28.0</td>\n",
       "      <td>NEGATIVE</td>\n",
       "      <td>YES</td>\n",
       "    </tr>\n",
       "    <tr>\n",
       "      <th>2</th>\n",
       "      <td>?</td>\n",
       "      <td>?</td>\n",
       "      <td>4000.0</td>\n",
       "      <td>35.0</td>\n",
       "      <td>NEGATIVE</td>\n",
       "      <td>YES</td>\n",
       "    </tr>\n",
       "    <tr>\n",
       "      <th>3</th>\n",
       "      <td>?</td>\n",
       "      <td>20.0</td>\n",
       "      <td>5000.0</td>\n",
       "      <td>45.0</td>\n",
       "      <td>NEGATIVE</td>\n",
       "      <td>YES</td>\n",
       "    </tr>\n",
       "    <tr>\n",
       "      <th>4</th>\n",
       "      <td>1.0</td>\n",
       "      <td>24.0</td>\n",
       "      <td>6000.0</td>\n",
       "      <td>77.0</td>\n",
       "      <td>NEGATIVE</td>\n",
       "      <td>NO</td>\n",
       "    </tr>\n",
       "    <tr>\n",
       "      <th>...</th>\n",
       "      <td>...</td>\n",
       "      <td>...</td>\n",
       "      <td>...</td>\n",
       "      <td>...</td>\n",
       "      <td>...</td>\n",
       "      <td>...</td>\n",
       "    </tr>\n",
       "    <tr>\n",
       "      <th>743</th>\n",
       "      <td>23.0</td>\n",
       "      <td>2.0</td>\n",
       "      <td>500.0</td>\n",
       "      <td>38.0</td>\n",
       "      <td>NEGATIVE</td>\n",
       "      <td>NO</td>\n",
       "    </tr>\n",
       "    <tr>\n",
       "      <th>744</th>\n",
       "      <td>21.0</td>\n",
       "      <td>2.0</td>\n",
       "      <td>500.0</td>\n",
       "      <td>52.0</td>\n",
       "      <td>NEGATIVE</td>\n",
       "      <td>NO</td>\n",
       "    </tr>\n",
       "    <tr>\n",
       "      <th>745</th>\n",
       "      <td>23.0</td>\n",
       "      <td>3.0</td>\n",
       "      <td>750.0</td>\n",
       "      <td>62.0</td>\n",
       "      <td>NEGATIVE</td>\n",
       "      <td>NO</td>\n",
       "    </tr>\n",
       "    <tr>\n",
       "      <th>746</th>\n",
       "      <td>39.0</td>\n",
       "      <td>1.0</td>\n",
       "      <td>250.0</td>\n",
       "      <td>39.0</td>\n",
       "      <td>NEGATIVE</td>\n",
       "      <td>NO</td>\n",
       "    </tr>\n",
       "    <tr>\n",
       "      <th>747</th>\n",
       "      <td>72.0</td>\n",
       "      <td>1.0</td>\n",
       "      <td>250.0</td>\n",
       "      <td>72.0</td>\n",
       "      <td>NEGATIVE</td>\n",
       "      <td>NO</td>\n",
       "    </tr>\n",
       "  </tbody>\n",
       "</table>\n",
       "<p>748 rows × 6 columns</p>\n",
       "</div>"
      ],
      "text/plain": [
       "       V1    V2       V3    V4        V5 Target\n",
       "0     2.0  50.0  12500.0  98.0  NEGATIVE    YES\n",
       "1     0.0  13.0   3250.0  28.0  NEGATIVE    YES\n",
       "2       ?     ?   4000.0  35.0  NEGATIVE    YES\n",
       "3       ?  20.0   5000.0  45.0  NEGATIVE    YES\n",
       "4     1.0  24.0   6000.0  77.0  NEGATIVE     NO\n",
       "..    ...   ...      ...   ...       ...    ...\n",
       "743  23.0   2.0    500.0  38.0  NEGATIVE     NO\n",
       "744  21.0   2.0    500.0  52.0  NEGATIVE     NO\n",
       "745  23.0   3.0    750.0  62.0  NEGATIVE     NO\n",
       "746  39.0   1.0    250.0  39.0  NEGATIVE     NO\n",
       "747  72.0   1.0    250.0  72.0  NEGATIVE     NO\n",
       "\n",
       "[748 rows x 6 columns]"
      ]
     },
     "execution_count": 30,
     "metadata": {},
     "output_type": "execute_result"
    }
   ],
   "source": [
    "df3_1"
   ]
  },
  {
   "cell_type": "code",
   "execution_count": 54,
   "id": "21f701bc-4870-4e58-b61f-da82474f3874",
   "metadata": {},
   "outputs": [],
   "source": [
    "df3_1.replace('?', np.nan, inplace=True)"
   ]
  },
  {
   "cell_type": "code",
   "execution_count": 56,
   "id": "d3fa8205-ff9f-45be-ac93-0e52325ea4d7",
   "metadata": {},
   "outputs": [],
   "source": [
    "numeric_features = [col for col in df3_1.columns if col.startswith('V') and col != 'V5']\n",
    "categorical_features = ['V5']"
   ]
  },
  {
   "cell_type": "code",
   "execution_count": 58,
   "id": "404a6462-4c13-4bf4-ac01-937bf8502dfe",
   "metadata": {},
   "outputs": [],
   "source": [
    "# Pipeline for numeric features: impute missing values and scale\n",
    "numeric_pipeline = Pipeline([\n",
    "    ('imputer', SimpleImputer(strategy='mean')),  # Impute missing values with mean\n",
    "    ('scaler', StandardScaler())\n",
    "])"
   ]
  },
  {
   "cell_type": "code",
   "execution_count": 60,
   "id": "8a05851e-2063-4589-ad2e-8277292a415d",
   "metadata": {},
   "outputs": [],
   "source": [
    "# Pipeline for categorical feature: ordinal encoding\n",
    "categorical_pipeline = Pipeline([\n",
    "    ('encoder', OrdinalEncoder())\n",
    "])"
   ]
  },
  {
   "cell_type": "code",
   "execution_count": 62,
   "id": "26ae446d-afab-4923-960b-05e153fe6c18",
   "metadata": {},
   "outputs": [],
   "source": [
    "# Combine pipelines using ColumnTransformer\n",
    "preprocessor = ColumnTransformer(transformers=[\n",
    "    ('numeric', numeric_pipeline, numeric_features),\n",
    "    ('categorical', categorical_pipeline, categorical_features)\n",
    "])"
   ]
  },
  {
   "cell_type": "code",
   "execution_count": 68,
   "id": "42dfdcf9-8828-4a48-afd8-d48dddce4a43",
   "metadata": {},
   "outputs": [
    {
     "name": "stdout",
     "output_type": "stream",
     "text": [
      "[[-9.38169390e-01  7.70986653e+00  7.62334626e+00  2.61563344e+00\n",
      "   0.00000000e+00]\n",
      " [-1.18627754e+00  1.30454949e+00  1.28273826e+00 -2.57880900e-01\n",
      "   0.00000000e+00]\n",
      " [ 0.00000000e+00 -1.53758496e-16  1.79684161e+00  2.94705348e-02\n",
      "   0.00000000e+00]\n",
      " ...\n",
      " [ 1.66696622e+00 -4.26617275e-01 -4.30939574e-01  1.13782607e+00\n",
      "   0.00000000e+00]\n",
      " [ 3.65183145e+00 -7.72850628e-01 -7.73675141e-01  1.93671355e-01\n",
      "   0.00000000e+00]\n",
      " [ 7.74561598e+00 -7.72850628e-01 -7.73675141e-01  1.54832812e+00\n",
      "   0.00000000e+00]]\n"
     ]
    }
   ],
   "source": [
    "transformed_data = preprocessor.fit_transform(df3_1)\n",
    "print(transformed_data)"
   ]
  },
  {
   "cell_type": "markdown",
   "id": "4a6b670f-eb70-4285-8b89-000d0ae8325d",
   "metadata": {
    "jp-MarkdownHeadingCollapsed": true
   },
   "source": [
    "### VarianceThreshold"
   ]
  },
  {
   "cell_type": "code",
   "execution_count": 70,
   "id": "cc5f7d34-bc7d-47d1-9fd1-14bbddd8bd1d",
   "metadata": {},
   "outputs": [],
   "source": [
    "from sklearn.feature_selection import VarianceThreshold"
   ]
  },
  {
   "cell_type": "code",
   "execution_count": 72,
   "id": "d4608ebe-94b1-4d5e-b90c-c40a20bb6085",
   "metadata": {},
   "outputs": [],
   "source": [
    "selector = VarianceThreshold(threshold=0.1)\n",
    "transformed_data_selected = selector.fit_transform(transformed_data)"
   ]
  },
  {
   "cell_type": "code",
   "execution_count": 82,
   "id": "4850e14c-198f-4d0c-a9bf-3d6ee511081e",
   "metadata": {},
   "outputs": [
    {
     "data": {
      "text/plain": [
       "array([[-9.38169390e-01,  7.70986653e+00,  7.62334626e+00,\n",
       "         2.61563344e+00],\n",
       "       [-1.18627754e+00,  1.30454949e+00,  1.28273826e+00,\n",
       "        -2.57880900e-01],\n",
       "       [ 0.00000000e+00, -1.53758496e-16,  1.79684161e+00,\n",
       "         2.94705348e-02],\n",
       "       ...,\n",
       "       [ 1.66696622e+00, -4.26617275e-01, -4.30939574e-01,\n",
       "         1.13782607e+00],\n",
       "       [ 3.65183145e+00, -7.72850628e-01, -7.73675141e-01,\n",
       "         1.93671355e-01],\n",
       "       [ 7.74561598e+00, -7.72850628e-01, -7.73675141e-01,\n",
       "         1.54832812e+00]])"
      ]
     },
     "execution_count": 82,
     "metadata": {},
     "output_type": "execute_result"
    }
   ],
   "source": [
    "transformed_data_selected"
   ]
  },
  {
   "cell_type": "markdown",
   "id": "6efc5f12-ebfa-46d5-830e-66e90eb5ce1f",
   "metadata": {
    "jp-MarkdownHeadingCollapsed": true
   },
   "source": [
    "### RFE"
   ]
  },
  {
   "cell_type": "code",
   "execution_count": 88,
   "id": "7afc4da8-18ef-4f50-a7c3-520e51eb48f3",
   "metadata": {},
   "outputs": [],
   "source": [
    "from sklearn.feature_selection import RFE\n",
    "from sklearn.linear_model import LogisticRegression\n",
    "full_pipeline = Pipeline(steps=[\n",
    "    ('preprocessor', preprocessor),\n",
    "    ('feature_selection', RFE(estimator=LogisticRegression(), n_features_to_select=2)),\n",
    "])"
   ]
  },
  {
   "cell_type": "code",
   "execution_count": 90,
   "id": "79ea6a69-e662-4972-bb1e-15a6e2851f3e",
   "metadata": {},
   "outputs": [
    {
     "name": "stdout",
     "output_type": "stream",
     "text": [
      "Selected features by RFE: ['V1' 'V3']\n"
     ]
    }
   ],
   "source": [
    "target_variable = 'Target'\n",
    "\n",
    "full_pipeline.fit(df3_1.drop(columns=[target_variable]), df3_1[target_variable])\n",
    "\n",
    "# Retrieve the selected features from RFE\n",
    "selected_features_mask = full_pipeline.named_steps['feature_selection'].support_\n",
    "selected_features = np.array(numeric_features + categorical_features)[selected_features_mask]\n",
    "print(\"Selected features by RFE:\", selected_features)"
   ]
  },
  {
   "cell_type": "markdown",
   "id": "bc7b3a97-3d87-473c-a5ef-3e3b916e0af5",
   "metadata": {
    "jp-MarkdownHeadingCollapsed": true
   },
   "source": [
    "### SFS"
   ]
  },
  {
   "cell_type": "code",
   "execution_count": 92,
   "id": "79e68097-6195-4d54-9eea-2adf9a305540",
   "metadata": {},
   "outputs": [
    {
     "name": "stdout",
     "output_type": "stream",
     "text": [
      "Selected features by SFS (Forward selection): ['V2' 'V4']\n"
     ]
    }
   ],
   "source": [
    "from sklearn.feature_selection import SequentialFeatureSelector\n",
    "# Full pipeline including feature selection with SFS and model fitting with LogisticRegression\n",
    "full_pipeline_forward = Pipeline(steps=[\n",
    "    ('preprocessor', preprocessor),\n",
    "    ('feature_selection', SequentialFeatureSelector(estimator=LogisticRegression(), \n",
    "                                                     direction='forward', \n",
    "                                                     n_features_to_select=2)),\n",
    "    ('classifier', LogisticRegression())  # Example classifier, adjust as needed\n",
    "])\n",
    "\n",
    "full_pipeline_forward.fit(df3_1.drop(columns=[target_variable]), df3_1[target_variable])\n",
    "\n",
    "# Get selected feature indices\n",
    "selected_feature_indices_forward = full_pipeline_forward.named_steps['feature_selection'].get_support(indices=True)\n",
    "selected_features_forward = np.array(numeric_features + categorical_features)[selected_feature_indices_forward]\n",
    "print(\"Selected features by SFS (Forward selection):\", selected_features_forward)"
   ]
  },
  {
   "cell_type": "code",
   "execution_count": 94,
   "id": "278d4c20-aded-4a36-a8c0-9b1d0762b22f",
   "metadata": {},
   "outputs": [
    {
     "name": "stdout",
     "output_type": "stream",
     "text": [
      "Selected features by SFS (Backward selection): ['V3' 'V4']\n"
     ]
    }
   ],
   "source": [
    "# Full pipeline including feature selection with SFS and model fitting with LogisticRegression\n",
    "full_pipeline_backward = Pipeline(steps=[\n",
    "    ('preprocessor', preprocessor),\n",
    "    ('feature_selection', SequentialFeatureSelector(estimator=LogisticRegression(), \n",
    "                                                     direction='backward', \n",
    "                                                     n_features_to_select=2)),\n",
    "    ('classifier', LogisticRegression())  # Example classifier, adjust as needed\n",
    "])\n",
    "\n",
    "# Fit the pipeline to the data\n",
    "full_pipeline_backward.fit(df3_1.drop(columns=[target_variable]), df3_1[target_variable])\n",
    "\n",
    "# Get selected feature indices\n",
    "selected_feature_indices_backward = full_pipeline_backward.named_steps['feature_selection'].get_support(indices=True)\n",
    "selected_features_backward = np.array(numeric_features + categorical_features)[selected_feature_indices_backward]\n",
    "print(\"Selected features by SFS (Backward selection):\", selected_features_backward)"
   ]
  },
  {
   "cell_type": "code",
   "execution_count": null,
   "id": "3b68cd3b-2237-43c5-af7e-a6bc40d88242",
   "metadata": {},
   "outputs": [],
   "source": []
  }
 ],
 "metadata": {
  "kernelspec": {
   "display_name": "Python 3 (ipykernel)",
   "language": "python",
   "name": "python3"
  },
  "language_info": {
   "codemirror_mode": {
    "name": "ipython",
    "version": 3
   },
   "file_extension": ".py",
   "mimetype": "text/x-python",
   "name": "python",
   "nbconvert_exporter": "python",
   "pygments_lexer": "ipython3",
   "version": "3.11.7"
  }
 },
 "nbformat": 4,
 "nbformat_minor": 5
}
